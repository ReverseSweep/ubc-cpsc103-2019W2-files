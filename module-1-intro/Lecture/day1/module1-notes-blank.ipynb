{
 "cells": [
  {
   "cell_type": "code",
   "execution_count": null,
   "metadata": {},
   "outputs": [],
   "source": [
    "from cs103 import * # needed (once per notebook) to enable incredible cs103 powers!!"
   ]
  },
  {
   "cell_type": "markdown",
   "metadata": {},
   "source": [
    "Today, we're going to focus on just playing around for a while in Python. We'll especially learn a bit about *values*, *variables*, and *functions*, and many other things along the way... but we'll also come back to all of these again next week and then in more detail over the term!  "
   ]
  },
  {
   "cell_type": "markdown",
   "metadata": {},
   "source": [
    "# Drawing Pine Trees\n",
    "\n",
    "Let's draw a tree with code. The `rectangle`, `triangle`, and `above` functions should help.\n",
    "\n",
    "Before we dive in, though, what is a function? We'll define them many ways, and they'll be the heart of everything we do. For now, though, let's say that a function is \"something interesting the Python programming language knows how to do, which we can ask it to do by name\"."
   ]
  },
  {
   "cell_type": "code",
   "execution_count": null,
   "metadata": {},
   "outputs": [],
   "source": [
    "# Draw the tree here!\n",
    "\n",
    "# First, though, let's try to learn more about rectangle\n",
    "help(rectangle)\n",
    "\n",
    "\n"
   ]
  },
  {
   "cell_type": "markdown",
   "metadata": {},
   "source": [
    "Next, let's draw *two* trees, side-by-side.\n",
    "\n",
    "The `beside` function can help. See what you can do with that first!"
   ]
  },
  {
   "cell_type": "code",
   "execution_count": null,
   "metadata": {},
   "outputs": [],
   "source": [
    "# Draw two trees, side-by-side.\n",
    "\n",
    "\n",
    "\n",
    "\n",
    "\n",
    "\n"
   ]
  },
  {
   "cell_type": "markdown",
   "metadata": {},
   "source": [
    "But... repeating the code seems messy. What if we decide to make\n",
    "them taller? We have to change both of them! Anyway, this code\n",
    "is getting a bit hard to read.\n",
    "\n",
    "A *variable* is a named \"slot\" where our program can remember\n",
    "one value. We choose the name. We can put a value in. By just\n",
    "writing the name where we want a value, we get the value out.\n",
    "We can even put a new value in... but it kicks the old one out!\n",
    "\n",
    "Let's put one tree image *value* into a variable and then use it when we call `beside`."
   ]
  },
  {
   "cell_type": "code",
   "execution_count": null,
   "metadata": {},
   "outputs": [],
   "source": [
    "# Draw two trees side-by-side, but this time use a variable.\n",
    "tree_image = ...  # fill in one tree value here\n",
    "\n",
    "# Then, put it beside itself!\n",
    "\n",
    "\n",
    "\n"
   ]
  },
  {
   "cell_type": "markdown",
   "metadata": {},
   "source": [
    "Now, let's draw 10 trees side-by-side."
   ]
  },
  {
   "cell_type": "code",
   "execution_count": null,
   "metadata": {},
   "outputs": [],
   "source": [
    "# Draw 10 trees, side-by-side.\n",
    "\n",
    "\n",
    "\n",
    "\n",
    "\n",
    "\n",
    "\n",
    "\n",
    "# Imagine doing that without variables!"
   ]
  },
  {
   "cell_type": "markdown",
   "metadata": {},
   "source": [
    "We'll come back to pine trees later!"
   ]
  },
  {
   "cell_type": "markdown",
   "metadata": {},
   "source": [
    "# What happens inside the computer?\n",
    "\n",
    "When our Python code runs, what does it do? Having a model of what happens will help us figure out what code to write to accomplish our goals and what's happening when our code goes wrong.\n",
    "\n",
    "It's much more important with these that we work them on paper than on the computer, but we will eventually try them here as well. We'll also use the online Python tutor: http://www.pythontutor.com/visualize.html#mode=edit"
   ]
  },
  {
   "cell_type": "code",
   "execution_count": null,
   "metadata": {},
   "outputs": [],
   "source": [
    "# Let's trace this code to understand what's happening.\n",
    "# To do that, we'll want to draw out the \"memory\" of the computer,\n",
    "# the place with all those slots that hold variables' values.\n",
    "\n",
    "a = 1\n",
    "\n",
    "b = a + 10\n",
    "\n",
    "a = a + 10\n",
    "\n",
    "a == b       # What does this evaluate to?\n",
    "\n",
    "\n",
    "b = a + b\n",
    "\n",
    "a = 100\n",
    "\n",
    "a + b        # What does this evaluate to?"
   ]
  },
  {
   "cell_type": "markdown",
   "metadata": {},
   "source": [
    "We'll do lots more tracing this term, but for now, let's return to trees.\n",
    "\n",
    "# Back to Trees"
   ]
  },
  {
   "cell_type": "markdown",
   "metadata": {},
   "source": [
    "Wouldn't it be cool if there was a bit of variation in the trees? Some could be taller or shorter than others, for example.\n",
    "\n",
    "There's *lots* of information here, but we're going to discuss it as we go. Meanwhile, let's skip ahead and pretend there *was* a function to draw a tree of whatever height we choose (like rectangle gives us a rectangle of whatever width, height, mode, and colour we choose) and use it. Then.. we'll make it so there really is such a function!\n",
    "\n",
    "**Skip down to the code and come back and read this as a reference. We'll spend lots more time with functions as well!**\n",
    "\n",
    "A variable gives us a way to remember one single value. That's great if you always need the same value. What if you really want to customize the value depending on choices you make?\n",
    "\n",
    "Imagine you are ordering pyjamas online. You want to choose the size and the colour and, based on your choice, get the pyjamas you prefer shipped to you.\n",
    "\n",
    "A *function* gives us a way to create a value based on some information (choices) we provide. We hand off this information as *arguments*, like the size and colour in the pyjama example above. When we called the functions `rectangle`, `triangle`, `above`, and `beside` above, we gave arguments to each of them.\n",
    "\n",
    "But, we didn't create the functions `rectangle`, `triangle`, `above`, and `beside`. If we did, we'd have to say what we wanted to do with the width, height, or other values we gave as arguments.\n",
    "\n",
    "When we create or *define* a function, our job is to say what's done with those argument values. The function can \"see\" those values using variables called *parameters*. A parameter is just like a regular variable except its value starts off with the argument value!\n",
    "\n",
    "(Quick aside: other code *cannot* \"see\" a function's own variables. They're not visible outside the function.)\n",
    "\n",
    "Finally, just like the company we're ordering pyjamas from ships the actual pyjamas back to us, the function can *return* a value back to the code that called it. The `rectangle` function returns an image value that Jupyter knows how to draw for us.\n",
    "\n",
    "We also want *our* function to return an image."
   ]
  },
  {
   "cell_type": "code",
   "execution_count": null,
   "metadata": {},
   "outputs": [],
   "source": [
    "# Skip this cell at first. We'll come back to it later and create our function."
   ]
  },
  {
   "cell_type": "code",
   "execution_count": null,
   "metadata": {},
   "outputs": [],
   "source": [
    "# In this cell, let's pretend there is ALREADY a function make_tree that creates a\n",
    "# tree of a height we choose. We'll use it to draw 10 trees side-by-side but give them\n",
    "# different heights.\n",
    "\n",
    "\n",
    "\n",
    "\n",
    "\n",
    "\n",
    "\n",
    "\n",
    "# Of course, our code won't work yet, but writing out how the function SHOULD work\n",
    "# first is a great idea! It helps us figure out what we want to accomplish. Now,\n",
    "# we can go back and create or \"define\" the function."
   ]
  }
 ],
 "metadata": {
  "kernelspec": {
   "display_name": "Python 3",
   "language": "python",
   "name": "python3"
  },
  "language_info": {
   "codemirror_mode": {
    "name": "ipython",
    "version": 3
   },
   "file_extension": ".py",
   "mimetype": "text/x-python",
   "name": "python",
   "nbconvert_exporter": "python",
   "pygments_lexer": "ipython3",
   "version": "3.7.3"
  }
 },
 "nbformat": 4,
 "nbformat_minor": 2
}
