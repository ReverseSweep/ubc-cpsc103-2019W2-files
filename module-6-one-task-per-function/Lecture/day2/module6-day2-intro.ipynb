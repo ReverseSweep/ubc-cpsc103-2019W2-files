{
 "cells": [
  {
   "cell_type": "markdown",
   "metadata": {
    "slideshow": {
     "slide_type": "slide"
    }
   },
   "source": [
    "# Module 6 Day 2 Intro Notes\n",
    "\n",
    "Just Goals/Announcements here. Then, we'll switch back to last class's notes."
   ]
  },
  {
   "cell_type": "markdown",
   "metadata": {
    "slideshow": {
     "slide_type": "slide"
    }
   },
   "source": [
    "## Goals for the Day, be able to:\n",
    "+ further explore helper rules and design of helper functions\n",
    "+ make lots of progress on the worksheet\n",
    "+ design a helper function we planned in our composition plan"
   ]
  },
  {
   "cell_type": "markdown",
   "metadata": {
    "slideshow": {
     "slide_type": "slide"
    }
   },
   "source": [
    "## Announcements"
   ]
  },
  {
   "cell_type": "markdown",
   "metadata": {
    "slideshow": {
     "slide_type": "subslide"
    }
   },
   "source": [
    "Midterm #1 status: \n",
    "+ There's a blank copy and sample solution at in the [Midterm 1 post on Piazza](https://piazza.com/class/k4acympiwak4u?cid=357)\n",
    "+ Marking of individual exam is > 50% done as of 10AM. We'll return the exams by Tuesday's class."
   ]
  },
  {
   "cell_type": "markdown",
   "metadata": {
    "slideshow": {
     "slide_type": "subslide"
    }
   },
   "source": [
    "Project:\n",
    "+ [Form your groups](https://piazza.com/class/k4acympiwak4u?cid=361) **by tomorrow**. Let's take a minute right now to look for partners.\n",
    "+ Get started on the [project proposal](https://canvas.ubc.ca/courses/35980/assignments/468633) due a week from tomorrow"
   ]
  },
  {
   "cell_type": "markdown",
   "metadata": {
    "slideshow": {
     "slide_type": "subslide"
    }
   },
   "source": [
    "Remember that M5 tutorial/code review are due tomorrow night!\n",
    "\n",
    "Deadlines go back to normal next week."
   ]
  },
  {
   "cell_type": "markdown",
   "metadata": {
    "slideshow": {
     "slide_type": "slide"
    }
   },
   "source": [
    "## Plan for Today\n",
    "\n",
    "1. Let's implement one helper function from last class. (But it won't be terribly exciting: a helper function is just a regular function!)\n",
    "2. Let's do a bunch of worksheet work.\n",
    "3. During that, let's also work together on one worksheet problem at the front.\n",
    "4. Let's do a quick midterm evaluation!"
   ]
  },
  {
   "cell_type": "markdown",
   "metadata": {
    "slideshow": {
     "slide_type": "subslide"
    }
   },
   "source": [
    "## Midterm Course Evaluation!\n",
    "\n",
    "We may get some more worksheet work in today, but we also want to take a minute to get your feedback on how CPSC 103 is going!\n",
    "\n",
    "If you're willing, please fill out the *optional*, *anonymous* survey at https://forms.gle/SnpKPAaentoYVDj99"
   ]
  }
 ],
 "metadata": {
  "celltoolbar": "Slideshow",
  "kernelspec": {
   "display_name": "Python 3",
   "language": "python",
   "name": "python3"
  },
  "language_info": {
   "codemirror_mode": {
    "name": "ipython",
    "version": 3
   },
   "file_extension": ".py",
   "mimetype": "text/x-python",
   "name": "python",
   "nbconvert_exporter": "python",
   "pygments_lexer": "ipython3",
   "version": "3.7.6"
  }
 },
 "nbformat": 4,
 "nbformat_minor": 2
}
