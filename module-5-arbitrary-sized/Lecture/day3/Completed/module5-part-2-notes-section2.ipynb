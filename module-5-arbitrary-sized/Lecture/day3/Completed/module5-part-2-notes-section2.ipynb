{
 "cells": [
  {
   "cell_type": "markdown",
   "metadata": {},
   "source": [
    "## Continuing the Board Game Example\n",
    "\n",
    "Two lectures ago, we designed a data definition for a board game. Now, we want to **find all the board games in a collection that are playable by a group with _p_ players**.\n",
    "\n",
    "How do we build on the previous design?"
   ]
  },
  {
   "cell_type": "code",
   "execution_count": 1,
   "metadata": {},
   "outputs": [],
   "source": [
    "# Old BoardGame data definition\n",
    "\n",
    "from typing import NamedTuple\n",
    "from cs103 import *\n",
    "\n",
    "BoardGame = NamedTuple('BoardGame', \n",
    "                       [('name', str),\n",
    "                        ('designer', str),\n",
    "                        ('min_num_players', int), # in range[1,...]\n",
    "                        ('max_num_players', int), # in range[min_num_players,...]\n",
    "                        ('min_age', int)])        # in range[0,...]\n",
    "# interp. a board game with its name, the designer's name\n",
    "#         the number of players represented as a range from\n",
    "#         minimum to maximum of \n",
    "#         [min_num_players,max_num_players], and the minimum\n",
    "#         recommended minimum age in years min_age\n",
    "BG_GLOOMHAVEN = BoardGame('Gloomhaven',\n",
    "                          'Childres',\n",
    "                          1, 4, 12)\n",
    "BG_BBMM = BoardGame('Bunny Bunny Moose Moose',\n",
    "                    'Chvatil',\n",
    "                    3, 10, 5)\n",
    "\n",
    "@typecheck\n",
    "def fn_for_board_game(bg: BoardGame) -> ...:\n",
    "    # template based on Compound (5 fields)\n",
    "    return ...(bg.name,\n",
    "               bg.designer,\n",
    "               bg.min_num_players,\n",
    "               bg.max_num_players,\n",
    "               bg.min_age)\n"
   ]
  },
  {
   "cell_type": "code",
   "execution_count": 2,
   "metadata": {},
   "outputs": [],
   "source": [
    "from typing import List\n",
    "\n",
    "# List[BoardGame]\n",
    "# interp. a list of board games\n",
    "\n",
    "LOBG0 = []\n",
    "LOBG1 = [BG_GLOOMHAVEN, BG_BBMM]\n",
    "\n",
    "# template based on arbitrary-sized data \n",
    "# and reference rule (for BoardGame)\n",
    "@typecheck\n",
    "def fn_for_lobg(lobg: List[BoardGame]) -> ...:\n",
    "    \n",
    "    # acc description\n",
    "    acc = ... # type: ...\n",
    "    \n",
    "    for bg in lobg:\n",
    "        acc = ...(fn_for_board_game(bg), acc)\n",
    "        \n",
    "    return ...(acc)\n"
   ]
  },
  {
   "cell_type": "code",
   "execution_count": 3,
   "metadata": {},
   "outputs": [
    {
     "name": "stdout",
     "output_type": "stream",
     "text": [
      "\u001b[92m6 of 6 tests passed\u001b[0m\n",
      "\u001b[92m5 of 5 tests passed\u001b[0m\n"
     ]
    }
   ],
   "source": [
    "# Now, how do we proceed to design a function that finds all the games\n",
    "# in a collection appropriate for p players?\n",
    "\n",
    "@typecheck\n",
    "def can_play(bg: BoardGame, p: int) -> bool:\n",
    "    \"\"\"\n",
    "    return True if bg can be played by p players, and\n",
    "    False otherwise\n",
    "    \"\"\"\n",
    "    #return True  #stub\n",
    "    #template from BoardGame with additional parameter p\n",
    "\n",
    "    return bg.min_num_players <= p and p <= bg.max_num_players\n",
    "\n",
    "start_testing()\n",
    "\n",
    "expect(can_play(BG_GLOOMHAVEN, 3), True)\n",
    "expect(can_play(BG_GLOOMHAVEN, 5), False)\n",
    "\n",
    "expect(can_play(BG_BBMM, 11), False)\n",
    "expect(can_play(BG_BBMM, 2), False)\n",
    "expect(can_play(BG_BBMM, 10), True)\n",
    "expect(can_play(BG_BBMM, 3), True)\n",
    "\n",
    "summary()\n",
    "\n",
    "@typecheck\n",
    "def find_all_games_for_p(collection: List[BoardGame], \n",
    "                         p: int) -> List[BoardGame]:\n",
    "    \"\"\"\n",
    "    return all the games in the collection that are appropriate for \n",
    "    p players\n",
    "    \"\"\"\n",
    "    #return LOBG1  #stub\n",
    "    # REALLY lazy stub:\n",
    "    #return []  #stub\n",
    "    # Yet another stub:\n",
    "    #return collection  #stub\n",
    "    #template from List[BoardGame], with additional parameter \n",
    "    # (lobg changed to collection)\n",
    "    \n",
    "    # playable_games is the boardgames seen so far that can be played by p players\n",
    "    playable_games = []   # type: List[BoardGame]\n",
    "    \n",
    "    for bg in collection:\n",
    "        if can_play(bg, p):\n",
    "            playable_games = playable_games + [bg]\n",
    "        \n",
    "    return playable_games\n",
    "    \n",
    "    \n",
    "start_testing()\n",
    "expect(find_all_games_for_p([], 5), [])\n",
    "expect(find_all_games_for_p([BG_GLOOMHAVEN], 5), [])\n",
    "expect(find_all_games_for_p([BG_GLOOMHAVEN], 4), [BG_GLOOMHAVEN])\n",
    "expect(find_all_games_for_p(LOBG1, 2), [BG_GLOOMHAVEN])\n",
    "expect(find_all_games_for_p(LOBG1, 3), LOBG1)\n",
    "summary()"
   ]
  },
  {
   "cell_type": "markdown",
   "metadata": {},
   "source": [
    "### Games' Names\n",
    "\n",
    "Now, **design a function that returns the names of all the games in a collection**."
   ]
  },
  {
   "cell_type": "code",
   "execution_count": 5,
   "metadata": {},
   "outputs": [
    {
     "name": "stdout",
     "output_type": "stream",
     "text": [
      "\u001b[92m2 of 2 tests passed\u001b[0m\n"
     ]
    }
   ],
   "source": [
    "@typecheck\n",
    "def get_game_names(game_collection: List[BoardGame]) -> List[str]:\n",
    "    \"\"\"\n",
    "    returns a list of the names of the games in game_collection\n",
    "    \"\"\"\n",
    "    #return []  #stub\n",
    "    #Dear TA: template copied from List[BoardGame]\n",
    "    \n",
    "    # game_names is the names of all the games in game_collection\n",
    "    # seen so far (lobg changed to game_collection)\n",
    "    game_names = [] # type: List[str]\n",
    "    \n",
    "    for bg in game_collection:\n",
    "        # find bg' name, and\n",
    "        # add it to game_names\n",
    "        game_names = game_names + [bg.name]\n",
    "        \n",
    "    return game_names\n",
    "\n",
    "\n",
    "start_testing()\n",
    "\n",
    "expect(get_game_names([]), [])\n",
    "expect(get_game_names(LOBG1), ['Gloomhaven', 'Bunny Bunny Moose Moose'])\n",
    "summary()"
   ]
  },
  {
   "cell_type": "markdown",
   "metadata": {},
   "source": [
    "## Reference Rule Outside of Lists\n",
    "\n",
    "Lists can refer to other types defined in a data definition, but so can several other types of data. Specifically, Optionals and Compounds can refer to other data definitions. In those cases, you follow the same reference rule as with lists.\n",
    "\n",
    "Here's a series of problems to practice that:\n",
    "1. Design a data definition to represent an amount of money in dollars and cents. (Finished for you below, since it's not a particularly new/interesting problem for us!)\n",
    "2. Design a data definition to represent an item's listed price in a store, which an amount of money *or* the price may be unlisted (for certain items where there will be a negotiation around the price if it sold).\n",
    "3. Design a function to determine if you might be able to afford an item based on your amount of money and its price."
   ]
  },
  {
   "cell_type": "code",
   "execution_count": 6,
   "metadata": {},
   "outputs": [
    {
     "data": {
      "text/plain": [
       "0.30000000000000004"
      ]
     },
     "execution_count": 6,
     "metadata": {},
     "output_type": "execute_result"
    }
   ],
   "source": [
    "0.1 + 0.1 + 0.1"
   ]
  },
  {
   "cell_type": "code",
   "execution_count": 8,
   "metadata": {},
   "outputs": [],
   "source": [
    "MoneyAmount = NamedTuple('MoneyAmount',\n",
    "                         [('dollars', int), # in range [0, ...)\n",
    "                          ('cents', int)])  # in range [0, 100)\n",
    "# interp. an amount of money in dollars and cents.\n",
    "MA0 = MoneyAmount(0, 0)\n",
    "MA2_50 = MoneyAmount(2, 50)\n",
    "MA99_99 = MoneyAmount(99, 99)\n",
    "\n",
    "@typecheck\n",
    "# template based on compound (2 fields)\n",
    "def fn_for_money_amount(ma: MoneyAmount) -> ...:\n",
    "    return ...(ma.dollars,\n",
    "               ma.cents)"
   ]
  },
  {
   "cell_type": "code",
   "execution_count": 9,
   "metadata": {},
   "outputs": [],
   "source": [
    "# DONE: a price in a store, which may be unlisted.\n",
    "\n",
    "from typing import Optional\n",
    "\n",
    "Price = Optional[MoneyAmount]\n",
    "# interp. a price of a product, which may be an amount of money\n",
    "# or None to indicate it is unlisted.\n",
    "P0 = None\n",
    "P1 = MA2_50\n",
    "P2 = MoneyAmount(42, 23)\n",
    "\n",
    "# template based on Optional and reference rule (for MoneyAmount)\n",
    "@typecheck\n",
    "def fn_for_price(p: Price) -> ...:\n",
    "    if p is None:\n",
    "        return ...\n",
    "    else:\n",
    "        return ...(fn_for_money_amount(p))\n"
   ]
  },
  {
   "cell_type": "code",
   "execution_count": 15,
   "metadata": {},
   "outputs": [
    {
     "name": "stdout",
     "output_type": "stream",
     "text": [
      "\u001b[91mTest failed:\u001b[0m expected False but got True\n",
      "    \u001b[1mLine 27: \u001b[0mexpect(might_buy(MoneyAmount(0, 0), MoneyAmount(100, 29)), False)\n",
      "\u001b[91mTest failed:\u001b[0m expected False but got True\n",
      "    \u001b[1mLine 31: \u001b[0mexpect(might_buy(MoneyAmount(100, 29), MoneyAmount(100, 30)), False)\n",
      "\u001b[91m4 of 6 tests passed\u001b[0m\n"
     ]
    }
   ],
   "source": [
    "# TODO: a function to see if you might be able to afford an item,\n",
    "# given your amount of money and its price.\n",
    "\n",
    "def first_is_bigger_or_equal(ma1: MoneyAmount, ma2: MoneyAmount) -> bool:\n",
    "    \"\"\"\n",
    "    return True if ma1 is bigger or equal to ma2, \n",
    "    return False otherwise\n",
    "    \"\"\"\n",
    "    return True #stub\n",
    "\n",
    "@typecheck\n",
    "def might_buy(budget: MoneyAmount, price: Price) -> bool:\n",
    "    \"\"\"\n",
    "    return True if you might be able to buy an item, given\n",
    "    your budget (amount of money available) and its price,\n",
    "    and False otherwise\n",
    "    \"\"\"\n",
    "    # return True  #stub\n",
    "    # template is from Price (with budget added)\n",
    "    if price is None:\n",
    "        return True\n",
    "    else:\n",
    "        return first_is_bigger_or_equal(budget, price)\n",
    "\n",
    "\n",
    "start_testing()\n",
    "expect(might_buy(MoneyAmount(0, 0), MoneyAmount(100, 29)), False)\n",
    "expect(might_buy(MoneyAmount(0, 0), MoneyAmount(0, 0)), True)\n",
    "expect(might_buy(MoneyAmount(0, 0), None), True)\n",
    "expect(might_buy(MoneyAmount(100, 29), MoneyAmount(100, 29)), True)\n",
    "expect(might_buy(MoneyAmount(100, 29), MoneyAmount(100, 30)), False)\n",
    "expect(might_buy(MoneyAmount(101, 29), MoneyAmount(100, 30)), True)\n",
    "summary()"
   ]
  },
  {
   "cell_type": "code",
   "execution_count": 13,
   "metadata": {},
   "outputs": [
    {
     "data": {
      "text/plain": [
       "(0, 99, 1, 20)"
      ]
     },
     "execution_count": 13,
     "metadata": {},
     "output_type": "execute_result"
    }
   ],
   "source": [
    "MoneyAmount(0, 99) + MoneyAmount(1, 20)"
   ]
  }
 ],
 "metadata": {
  "kernelspec": {
   "display_name": "Python 3",
   "language": "python",
   "name": "python3"
  },
  "language_info": {
   "codemirror_mode": {
    "name": "ipython",
    "version": 3
   },
   "file_extension": ".py",
   "mimetype": "text/x-python",
   "name": "python",
   "nbconvert_exporter": "python",
   "pygments_lexer": "ipython3",
   "version": "3.7.6"
  }
 },
 "nbformat": 4,
 "nbformat_minor": 2
}
