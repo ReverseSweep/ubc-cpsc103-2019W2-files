{
 "cells": [
  {
   "cell_type": "code",
   "execution_count": null,
   "metadata": {},
   "outputs": [],
   "source": [
    "from cs103 import *"
   ]
  },
  {
   "cell_type": "markdown",
   "metadata": {},
   "source": [
    "## `List[str]` Data Definition"
   ]
  },
  {
   "cell_type": "code",
   "execution_count": null,
   "metadata": {},
   "outputs": [],
   "source": [
    "from typing import List\n",
    "\n",
    "# List[str]\n",
    "# interp. a list of strings\n",
    "LOS0 = []\n",
    "LOS2 = [\"hello\", \"goodbye\", \"Beatles\"]\n",
    "\n",
    "@typecheck\n",
    "# template based on arbitrary-sized\n",
    "def fn_for_los(los: List[str]) -> ...:\n",
    "    # description of the accumulator\n",
    "    acc = ...   # type: ...\n",
    "\n",
    "    for s in los:\n",
    "        acc = ...(s, acc)\n",
    "\n",
    "    return ...(acc)"
   ]
  },
  {
   "cell_type": "markdown",
   "metadata": {},
   "source": [
    "## How does `return` work in a for loop?\n",
    "\n",
    "Actually `return` works the same regardless of where you use it. It looks like this: `return CODE`, where `CODE` is any expression we want to write. It evaluates `CODE`, stops the currently running function (no matter what was going on), and returns from the function with the value it got from `CODE`.\n",
    "\n",
    "(Note that we can only use `return` inside a function!)\n",
    "\n",
    "So, in a loop, it ends the loop right away!"
   ]
  },
  {
   "cell_type": "code",
   "execution_count": null,
   "metadata": {},
   "outputs": [],
   "source": [
    "from cs103 import *\n",
    "\n",
    "@typecheck\n",
    "def contains_ubc(unis: List[str]) -> bool:\n",
    "    \"\"\"\n",
    "    return True if unis includes \"UBC\" else return False\n",
    "    \"\"\"\n",
    "    # return True #stub\n",
    "    # Template based on List[str]\n",
    "    for u in unis:\n",
    "        if u == \"UBC\":\n",
    "            # We've found UBC. So, we don't need to keep looking through\n",
    "            # the list unis. We already know the answer to return.\n",
    "            return True\n",
    "    return False\n",
    "\n",
    "start_testing()\n",
    "\n",
    "expect(contains_ubc([]), False)\n",
    "expect(contains_ubc([\"UW\"]), False)\n",
    "expect(contains_ubc([\"UBC\"]), True)\n",
    "expect(contains_ubc([\"McGill\", \"SFU\", \"UBC\", \"MIT\", \"Harvard\"]), True)\n",
    "expect(contains_ubc([\"McGill\", \"SFU\", \"MIT\", \"Harvard\"]), False)\n",
    "\n",
    "summary()"
   ]
  },
  {
   "cell_type": "markdown",
   "metadata": {},
   "source": [
    "## Designing a Related Function with Accumulators\n",
    "\n",
    "Let's do one more example, this time designing a different but related function.\n",
    "\n",
    "Note that essentially *all* of your accumulators' descriptions will have the words \"in the list so far\" in them. That's what accumulators do: keep track of information about what we've seen in the list so far!)"
   ]
  },
  {
   "cell_type": "code",
   "execution_count": null,
   "metadata": {},
   "outputs": [],
   "source": [
    "@typecheck\n",
    "def count_UBCs(unis: List[str]) -> int:\n",
    "    \"\"\"\n",
    "    return the number of times that \"UBC\" appears in unis.\n",
    "    \"\"\"\n",
    "    return 0 #stub\n",
    "\n",
    "start_testing()\n",
    "\n",
    "# Here are all the same examples as in contains_ubc. Do we need any more?\n",
    "expect(count_UBCs([]), 0)\n",
    "expect(count_UBCs([\"UW\"]), 0)\n",
    "expect(count_UBCs([\"UBC\"]), 1)\n",
    "expect(count_UBCs([\"McGill\", \"SFU\", \"UBC\", \"MIT\", \"Harvard\"]), 1)\n",
    "expect(count_UBCs([\"McGill\", \"SFU\", \"MIT\", \"Harvard\"]), 0)\n",
    "\n",
    "summary()"
   ]
  },
  {
   "cell_type": "markdown",
   "metadata": {},
   "source": [
    "P.S. Here's a fun exercise: Redesign the function body of `contains_UBC` to call `count_UBCs`. \n",
    "Is `count_UBCs` helpful to implement `contains_UBC`? "
   ]
  },
  {
   "cell_type": "markdown",
   "metadata": {},
   "source": [
    "## Designing a data definition for a list of integers\n",
    "\n",
    "**Problem:** design a data definition for a list of integers.\n",
    "\n",
    "Once we've learned how to design other data definitions and realize that a data definition for a particular problem needs to be a list, these tend to be fairly straightforward to complete. Let's practice one quickly this week.\n",
    "\n",
    "Next week, we'll see how things change (for lists, optionals, and compounds!) when a data definition we create refers to another data definition we created!"
   ]
  },
  {
   "cell_type": "code",
   "execution_count": null,
   "metadata": {},
   "outputs": [],
   "source": [
    "# TODO: design a data definition for a list of integers"
   ]
  },
  {
   "cell_type": "markdown",
   "metadata": {},
   "source": [
    "## Fun with a Large-ish Information Set\n",
    "\n",
    "One of the examples of the `QuarterlyVolumes` data definition below is the volume of shares of the company Apple that traded quarterly (Jan-Mar, Apr-Jun, Jul-Sep, and Oct-Dec) between 1981 and 2017 (starting at Jan-Mar 1981 and ending at Oct-Dec 2017). \n",
    "\n",
    "Paraphrasing [Wikipedia's article on Volume](https://en.wikipedia.org/wiki/Volume_(finance)), the volume of a stock traded in a quarter is \"the number of shares that changed hands\" during that quarter."
   ]
  },
  {
   "cell_type": "code",
   "execution_count": null,
   "metadata": {},
   "outputs": [],
   "source": [
    "from typing import List\n",
    "\n",
    "QuarterlyVolumes = List[int] # in range [0, ...]\n",
    "# interp. the quarterly volumes traded of a stock (i.e., amounts for\n",
    "# quarter 1 (Jan-Mar), 2 (Apr-Jun), 3 (Jul-Sep), or 4 (Oct-Dec).\n",
    "# Examples should be in contiguous time order. In other words, they\n",
    "# should not skip quarters!\n",
    "LOQV0 = []\n",
    "LOQV_ONE_YEAR = [0, 100, 25, 1]\n",
    "LOQV_THREE_YEARS = [0, 100, 25, 1, \n",
    "                    10, 50, 14, 3, \n",
    "                    80, 22, 17, 100]\n",
    "LOQV_AAPL_1981_2017 = [\n",
    "    407831200, 519478400, 489932800, 631993600,\n",
    "    668074400, 949284000, 1309442400, 2414451200,\n",
    "    2595163200, 2057680800, 3525244800, 2950164000,\n",
    "    2359016800, 2926879200, 2611828800, 2597033600,\n",
    "    3928848000, 3329636800, 1554384800, 2560448800,\n",
    "    3494248800, 3370024000, 3228338400, 3238194400,\n",
    "    5211102400, 3537413600, 2316260800, 3878050400,\n",
    "    3618042400, 2367792000, 1975013600, 2362396400,\n",
    "    4022944800, 3290271600, 2265446400, 3147793600,\n",
    "    2696965600, 2927540000, 2374775200, 3101204400,\n",
    "    4448421600, 4826889200, 2587303600, 2474298400,\n",
    "    2555954800, 2871699600, 2358750800, 2498073200,\n",
    "    3463768000, 3697338400, 3623524800, 3328600800,\n",
    "    4218620000, 3018895600, 3163902000, 3887556400,\n",
    "    5114648000, 4395230000, 4575995200, 4480761600,\n",
    "    4574766000, 2786229600, 2801103200, 3136456400,\n",
    "    4537288000, 2168684000, 7016038400, 4268829600,\n",
    "    7047930400, 4698766800, 8057212800, 8994638800,\n",
    "    8298978800, 7929124000, 9919663600, 8127910000,\n",
    "    7143329200, 6643840000, 6474946800, 9813283200,\n",
    "    7883072400, 6566422800, 4828996200, 4385957800,\n",
    "    5417846000, 5276752600, 4640484800, 3918398400,\n",
    "    3547135200, 6175055600, 3718330000, 4367042400,\n",
    "    6118987000, 5615421000, 6345362800, 12370646400,\n",
    "    15458277800, 10890252100, 7960705900, 11291009800,\n",
    "    15957925200, 13416171300, 13272236600, 11278408400,\n",
    "    14212695000, 13526087400, 17327648800, 16682565200,\n",
    "    20741779100, 15212747900, 14225769600, 21315004900,\n",
    "    11849447400, 8488599000, 7274145200, 8201230100,\n",
    "    9524811800, 11775259300, 9277186100, 7178974600,\n",
    "    7860986000, 6357435000, 9693498500, 7102915400,\n",
    "    8453186700, 8640290400, 6596215500, 9301358500,\n",
    "    7911083600, 6857389000, 5806848600, 5030071200,\n",
    "    4912005000, 4249617100, 3498583000, 3254283000,\n",
    "    3579821100, 2828800200, 4050072500, 2784493400,\n",
    "    2827936300, 2551770000, 2283923700, 2016991500,\n",
    "    1699719000, 1711464000, 1763455000, 1635788200\n",
    "]\n",
    "\n",
    "@typecheck\n",
    "# template based on arbitrary-sized\n",
    "def fn_for_loqv(loqv: QuarterlyVolumes) -> ...:\n",
    "    # description of the accumulator\n",
    "    acc = ...   # type: ...\n",
    "\n",
    "    for qv in loqv:\n",
    "        acc = ...(qv, acc)\n",
    "\n",
    "    return ...(acc)"
   ]
  },
  {
   "cell_type": "markdown",
   "metadata": {},
   "source": [
    "Now, let's design a function that finds the average quarterly volume of AAPL stocks across the available data\n",
    "for a given quarter (1, 2, 3, or 4).\n",
    "\n",
    "We're going to end up using multiple accumulators in this design. Template functions in data definitions give you code that *may* be useful to you, but you might decide not to use some pieces, to add or duplicate pieces, or to insert into the template code that isn't suggested by the template at all. For the list template, the accumulator is a suggestion: you may not need one, you may need one, or in rare cases where you're tracking multiple different evolving pieces of information through the loop, you may need multiple!"
   ]
  },
  {
   "cell_type": "code",
   "execution_count": null,
   "metadata": {},
   "outputs": [],
   "source": [
    "@typecheck\n",
    "def avg_volume_of_quarter(loqv: QuarterlyVolumes, quarter: int) -> float:\n",
    "    \"\"\"\n",
    "    Return the average volume for the given stock in the given quarter across all years\n",
    "    of data supplied.\n",
    "    \n",
    "    Assumes that loqv begins with quarter 1. quarter must be in the range [1,4].\n",
    "    \"\"\"\n",
    "    return 0.0  #stub\n",
    "\n",
    "start_testing()\n",
    "\n",
    "# I'd like an extra example that has an incomplete year:\n",
    "LOQV_INCOMPLETE_YEAR = [0, 100, 25, 1, \n",
    "                        10, 50, 14, 3, \n",
    "                        80, 22]\n",
    "\n",
    "expect(avg_volume_of_quarter([], 1), 0.0)\n",
    "expect(avg_volume_of_quarter([], 3), 0.0)\n",
    "expect(avg_volume_of_quarter([10, 20, 300, 4000], 1), 10.0)\n",
    "expect(avg_volume_of_quarter([10, 20, 300, 4000], 2), 20.0)\n",
    "expect(avg_volume_of_quarter([10, 20, 300, 4000], 3), 300.0)\n",
    "expect(avg_volume_of_quarter([10, 20, 300, 4000], 4), 4000.0)\n",
    "\n",
    "expect(avg_volume_of_quarter(LOQV_THREE_YEARS, 1), (0+10+80)/3)\n",
    "expect(avg_volume_of_quarter(LOQV_THREE_YEARS, 3), (25+14+17)/3)\n",
    "\n",
    "expect(avg_volume_of_quarter(LOQV_INCOMPLETE_YEAR, 1), (0+10+80)/3)\n",
    "expect(avg_volume_of_quarter(LOQV_INCOMPLETE_YEAR, 3), (25+14)/2)\n",
    "\n",
    "summary()"
   ]
  },
  {
   "cell_type": "code",
   "execution_count": null,
   "metadata": {},
   "outputs": [],
   "source": [
    "# Let's take a look at Apple's first quarter:\n",
    "avg_volume_of_quarter(LOQV_AAPL_1981_2017, 1)"
   ]
  },
  {
   "cell_type": "markdown",
   "metadata": {},
   "source": [
    "## Extra Accumulator Example\n",
    "\n",
    "(Intended for your own review after class.)\n",
    "\n",
    "Let's rewrite `contains_UBC` to use an accumulator to track whether we have seen \"UBC\" in the list so far."
   ]
  },
  {
   "cell_type": "code",
   "execution_count": null,
   "metadata": {},
   "outputs": [],
   "source": [
    "@typecheck\n",
    "def contains_UBC_with_accumulator(unis: List[str]) -> bool:\n",
    "    \"\"\"\n",
    "    return True if unis includes \"UBC\" else return False\n",
    "    \"\"\"\n",
    "    # return True #stub\n",
    "    # Template based on List[str]\n",
    "    \n",
    "    # We'll start from the \"raw\" template!\n",
    "    \n",
    "    # description of the accumulator\n",
    "    acc = ...   # type: ...\n",
    "\n",
    "    for uni in unis:\n",
    "        acc = ...(uni, acc)\n",
    "\n",
    "    return ...(acc)\n",
    "\n",
    "start_testing()\n",
    "\n",
    "expect(contains_UBC_with_accumulator([]), False)\n",
    "expect(contains_UBC_with_accumulator([\"UW\"]), False)\n",
    "expect(contains_UBC_with_accumulator([\"UBC\"]), True)\n",
    "expect(contains_UBC_with_accumulator([\"McGill\", \"SFU\", \"UBC\", \"MIT\", \"Harvard\"]), True)\n",
    "expect(contains_UBC_with_accumulator([\"McGill\", \"SFU\", \"MIT\", \"Harvard\"]), False)\n",
    "\n",
    "summary()"
   ]
  }
 ],
 "metadata": {
  "kernelspec": {
   "display_name": "Python 3",
   "language": "python",
   "name": "python3"
  },
  "language_info": {
   "codemirror_mode": {
    "name": "ipython",
    "version": 3
   },
   "file_extension": ".py",
   "mimetype": "text/x-python",
   "name": "python",
   "nbconvert_exporter": "python",
   "pygments_lexer": "ipython3",
   "version": "3.7.6"
  }
 },
 "nbformat": 4,
 "nbformat_minor": 2
}
