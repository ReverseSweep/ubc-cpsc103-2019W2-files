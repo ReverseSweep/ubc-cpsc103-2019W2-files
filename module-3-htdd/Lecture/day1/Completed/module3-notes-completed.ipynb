{
 "cells": [
  {
   "cell_type": "code",
   "execution_count": 1,
   "metadata": {},
   "outputs": [],
   "source": [
    "from cs103 import *"
   ]
  },
  {
   "cell_type": "markdown",
   "metadata": {},
   "source": [
    "## \"Standing\" Problem\n",
    "\n",
    "Design a function that takes a standing (SD for \"standing deferred\",\n",
    "AUD for \"audit\", and W for \"withdraw\") and determines whether the\n",
    "student is still working on the course where they earned that\n",
    "standing.\n",
    "\n",
    "**To do this**, we'll need a data definition for a standing."
   ]
  },
  {
   "cell_type": "code",
   "execution_count": 2,
   "metadata": {},
   "outputs": [],
   "source": [
    "from enum import Enum\n",
    "\n",
    "Standing = Enum('Standing', ['SD', 'AUD', 'W'])\n",
    "# interp. a student's standing in a course, one of:\n",
    "# SD for standing deferred, AUD for audit, or W for withdraw.\n",
    "# examples are redundant for enumerations\n",
    "\n",
    "# template based on enumeration (3 cases)\n",
    "@typecheck\n",
    "def fn_for_standing(s: Standing) -> ...:\n",
    "    if s == Standing.SD:\n",
    "        return ...\n",
    "    elif s == Standing.AUD:\n",
    "        return ...\n",
    "    elif s == Standing.W:\n",
    "        return ...\n"
   ]
  },
  {
   "cell_type": "markdown",
   "metadata": {},
   "source": [
    "Now we can design the function that takes a standing and \"determines whether the\n",
    "student is still working on the course where they earned that\n",
    "standing.\""
   ]
  },
  {
   "cell_type": "code",
   "execution_count": 3,
   "metadata": {},
   "outputs": [
    {
     "name": "stdout",
     "output_type": "stream",
     "text": [
      "\u001b[92m3 of 3 tests passed\u001b[0m\n"
     ]
    }
   ],
   "source": [
    "@typecheck\n",
    "def still_working(s: Standing) -> bool:\n",
    "    \"\"\"\n",
    "    determines whether the student is still working on the course where\n",
    "    they earned the standing s (True if they're still working, False otherwise)\n",
    "    \"\"\"\n",
    "    #return True  #stub\n",
    "    # template copied from Standing\n",
    "    if s == Standing.SD:\n",
    "        return True\n",
    "    elif s == Standing.AUD:\n",
    "        return False\n",
    "    elif s == Standing.W:\n",
    "        return False\n",
    "    \n",
    "\n",
    "start_testing()\n",
    "expect(still_working(Standing.SD), True)\n",
    "expect(still_working(Standing.AUD), False)\n",
    "expect(still_working(Standing.W), False)\n",
    "summary()"
   ]
  },
  {
   "cell_type": "markdown",
   "metadata": {},
   "source": [
    "A single data definition usually gets used for many different functions in your program, but we often only have time for one in class, tutorial, and assignments. Let's do a second design here!\n",
    "\n",
    "**Problem:** Design a function that takes a standing (as above) and returns an English explanation of what the standing means.\n",
    "\n",
    "We already have the data definition, which guides our function design. Indeed, the designed function is very similar to the previous one. Finding where it's *different* may tell you a lot about why examples and templates are useful!"
   ]
  },
  {
   "cell_type": "code",
   "execution_count": 4,
   "metadata": {},
   "outputs": [
    {
     "name": "stdout",
     "output_type": "stream",
     "text": [
      "\u001b[92m3 of 3 tests passed\u001b[0m\n"
     ]
    }
   ],
   "source": [
    "@typecheck\n",
    "def describe_standing(s: Standing) -> str:\n",
    "    \"\"\"\n",
    "    returns an English description of s\n",
    "    \"\"\"\n",
    "    #return \"\"  #stub\n",
    "    # template copied from Standing\n",
    "    if s == Standing.SD:\n",
    "        return \"Standing Deferred: awaiting completion of some additional requirement\"\n",
    "    elif s == Standing.AUD:\n",
    "        return \"Auditing: sat in on the course for credit, but not for a grade\"\n",
    "    elif s == Standing.W:\n",
    "        return \"Withdrawn: Withdrew from the course after the add/drop deadline\"\n",
    "\n",
    "start_testing()\n",
    "expect(describe_standing(Standing.SD), \"Standing Deferred: awaiting completion of some additional requirement\")\n",
    "expect(describe_standing(Standing.AUD), \"Auditing: sat in on the course for credit, but not for a grade\")\n",
    "expect(describe_standing(Standing.W), \"Withdrawn: Withdrew from the course after the add/drop deadline\")\n",
    "summary()\n",
    "\n",
    "\n",
    "# Did the tests plus the template basically do all the work of defining the function for us?\n",
    "# Yep, they did. And.. that's great!! :)"
   ]
  },
  {
   "cell_type": "markdown",
   "metadata": {},
   "source": [
    "## Robotic Wheelchair Problem\n",
    "\n",
    "**Problem:** A robotic wheelchair has a sensor that\n",
    "warns if it gets too close to an object. A reading from the sensor is\n",
    "either a distance in centimeters (that is zero or greater) or an error\n",
    "code indicating that no data is presently available. Design a function\n",
    "to determine if a wheelchair is definitely safely out of range of any\n",
    "object (at least 50cm).\n",
    "\n",
    "As before, we need to design a data definition before we can design the function!"
   ]
  },
  {
   "cell_type": "code",
   "execution_count": 5,
   "metadata": {},
   "outputs": [],
   "source": [
    "from typing import Optional\n",
    "\n",
    "Reading = Optional[float]  # in range[0, ...]\n",
    "# interp. a distance in centimeters (that is zero or greater)\n",
    "# or None meaning an error code indicating that no data is\n",
    "# presently available\n",
    "R_ERROR = None\n",
    "R_CLOSE = 2.5\n",
    "R_FAR = 38\n",
    "\n",
    "# template based on optional\n",
    "@typecheck\n",
    "def fn_for_reading(r: Reading) -> ...:\n",
    "    if r is None:\n",
    "        return ...\n",
    "    else:\n",
    "        return ...(r)\n",
    "    "
   ]
  },
  {
   "cell_type": "markdown",
   "metadata": {},
   "source": [
    "Now on to designing the function. Here's the problem statement again:\n",
    "\n",
    "Design a function to determine if a wheelchair is definitely safely out of range of any object (at least 50cm)."
   ]
  },
  {
   "cell_type": "code",
   "execution_count": 6,
   "metadata": {},
   "outputs": [
    {
     "name": "stdout",
     "output_type": "stream",
     "text": [
      "\u001b[92m4 of 4 tests passed\u001b[0m\n"
     ]
    }
   ],
   "source": [
    "@typecheck\n",
    "def is_safe(r: Reading) -> bool:\n",
    "    \"\"\"\n",
    "    determines whether a wheelchair with a sensor reading of r is known to be\n",
    "    safely out of range of any object (at least 50cm away)\n",
    "    \"\"\"\n",
    "    #return True #stub\n",
    "    # template copied from Reading\n",
    "    if r is None:\n",
    "        return False\n",
    "    else:\n",
    "        return r >= 50\n",
    "\n",
    "start_testing()\n",
    "expect(is_safe(None), False)\n",
    "expect(is_safe(23), False)\n",
    "expect(is_safe(50), True)\n",
    "expect(is_safe(83), True)\n",
    "summary()"
   ]
  }
 ],
 "metadata": {
  "kernelspec": {
   "display_name": "Python 3",
   "language": "python",
   "name": "python3"
  },
  "language_info": {
   "codemirror_mode": {
    "name": "ipython",
    "version": 3
   },
   "file_extension": ".py",
   "mimetype": "text/x-python",
   "name": "python",
   "nbconvert_exporter": "python",
   "pygments_lexer": "ipython3",
   "version": "3.7.6"
  }
 },
 "nbformat": 4,
 "nbformat_minor": 2
}
