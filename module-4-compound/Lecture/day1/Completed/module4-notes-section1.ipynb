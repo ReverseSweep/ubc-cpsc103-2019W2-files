{
 "cells": [
  {
   "cell_type": "code",
   "execution_count": 1,
   "metadata": {},
   "outputs": [],
   "source": [
    "from cs103 import *"
   ]
  },
  {
   "cell_type": "markdown",
   "metadata": {},
   "source": [
    "## Module 4: Information Composed of Many Pieces and Compound Data "
   ]
  },
  {
   "cell_type": "markdown",
   "metadata": {},
   "source": [
    "### Games\n",
    "\n",
    "**Problem:** You're designing software for [boardgamegeek.com](https://boardgamegeek.com/). Design a data\n",
    "definition for a game. Your users need to record the name of the game,\n",
    "the name of the designer, the number of players, and the\n",
    "recommended minimum age to play."
   ]
  },
  {
   "cell_type": "code",
   "execution_count": 3,
   "metadata": {},
   "outputs": [],
   "source": [
    "# Solution here\n",
    "from typing import NamedTuple\n",
    "\n",
    "BoardGame = NamedTuple('BoardGame', [('name', str),\n",
    "                                     ('designer', str),\n",
    "                                     ('min_num_players', int),  # in range[1,...]\n",
    "                                     ('max_num_players', int),  # in range[min_num_players,...]\n",
    "                                     ('min_age', int)])         # in range[0,...]\n",
    "# interp. a board game with the name of the game (name), \n",
    "# the name of the designer (designer), the number of players\n",
    "# as a range from min_num_players to max_num_players (including both),\n",
    "# and the recommended minimum age in years to play (min_age).\n",
    "BG_CATAN = BoardGame('Settlers of Catan', 'Klaus Teuber', 3, 4, 10)\n",
    "BG_TTRIDE = BoardGame('Ticket to Ride: Europe', 'Alan R. Moon', 2, 5, 8)\n",
    "BG_CHESS = BoardGame('Chess', 'unknown', 2, 2, 0)\n",
    "\n",
    "# template based on compound (5 fields)\n",
    "@typecheck\n",
    "def fn_for_board_game(bg: BoardGame) -> ...:\n",
    "    return ...(bg.name,\n",
    "               bg.designer,\n",
    "               bg.min_num_players,\n",
    "               bg.max_num_players,\n",
    "               bg.min_age)"
   ]
  },
  {
   "cell_type": "markdown",
   "metadata": {},
   "source": [
    "**Problem:** Design a function to determine if it is possible to play a game, when you invite a particular number of friends over."
   ]
  },
  {
   "cell_type": "code",
   "execution_count": 7,
   "metadata": {},
   "outputs": [
    {
     "name": "stdout",
     "output_type": "stream",
     "text": [
      "\u001b[92m6 of 6 tests passed\u001b[0m\n"
     ]
    }
   ],
   "source": [
    "# Solution here\n",
    "\n",
    "@typecheck\n",
    "def can_play(bg: BoardGame, num_friends: int) -> bool:\n",
    "    \"\"\"\n",
    "    return True if you can play bg, when you invited num_friends friends over to play.\n",
    "    (That is, you plus your friends fit in the range of number of players for bg.)\n",
    "    \"\"\"\n",
    "    \n",
    "    # TOTALLY not necessary in CPSC 103, but does check that num_friends is not negative:\n",
    "    assert num_friends >= 0\n",
    "    \n",
    "    \n",
    "    #return False  #stub\n",
    "    # template copied from BoardGame with additional parameter (num_friends)\n",
    "    return bg.min_num_players <= num_friends + 1 and num_friends + 1 <= bg.max_num_players\n",
    "\n",
    "start_testing()\n",
    "\n",
    "expect(can_play(BoardGame('Settlers of Catan: Siefahrers', 'Klaus Teuber', 3, 5, 12),\n",
    "                6), \n",
    "       False)\n",
    "expect(can_play(BoardGame('Settlers of Catan: Siefahrers', 'Klaus Teuber', 3, 5, 12),\n",
    "                4), \n",
    "       True)\n",
    "expect(can_play(BoardGame('Settlers of Catan: Siefahrers', 'Klaus Teuber', 3, 5, 12),\n",
    "                2), \n",
    "       True)\n",
    "expect(can_play(BoardGame('Settlers of Catan: Siefahrers', 'Klaus Teuber', 3, 5, 12),\n",
    "                1), \n",
    "       False)\n",
    "\n",
    "expect(can_play(BG_CHESS, 1), True)\n",
    "expect(can_play(BG_CHESS, 0), False)\n",
    "\n",
    "summary()\n"
   ]
  },
  {
   "cell_type": "markdown",
   "metadata": {},
   "source": [
    "### TV Shows\n",
    "\n",
    "**Problem:** You're designing software for a provider of TV streaming. Design a data definition for a TV show. (This provider does not have movies yet.) You need to record the title of the TV show, the number of episodes available, the average time of the episodes in minutes, the year it premiered, and if it is currently active or not."
   ]
  },
  {
   "cell_type": "code",
   "execution_count": 9,
   "metadata": {},
   "outputs": [],
   "source": [
    "from typing import NamedTuple\n",
    "\n",
    "TvShow = NamedTuple('TvShow', [('title', str),\n",
    "                               ('num_episodes', int),     # in range[0,...]\n",
    "                               ('episode_length', float), # in range[0,...]\n",
    "                               ('year_premiered', int),   # in range(0,...)\n",
    "                               ('active', bool)])\n",
    "# interp. a TV show with its title, the number of episodes available (num_episodes),\n",
    "# the average runtime of an episode in minutes (episode_length), the year it premiered\n",
    "# (year_premiered), and if it is currently active or not.\n",
    "TS_B99 = TvShow('Brooklyn 99', 22, 25, 2013, True)\n",
    "TS_GP = TvShow('The Good Place', 60, 25, 2016, False)\n",
    "TS_TLA = TvShow('Avatar: The Last Airbender', 61, 22, 2005, False)\n",
    "\n",
    "# template based on compound (5 attributes)\n",
    "@typecheck\n",
    "def fn_for_tv_show(ts: TvShow) -> ...:\n",
    "    return ...(ts.title,\n",
    "               ts.num_episodes,\n",
    "               ts.episode_length,\n",
    "               ts.year_premiered,\n",
    "               ts.active)"
   ]
  },
  {
   "cell_type": "markdown",
   "metadata": {},
   "source": [
    "**Problem:** Design a function to determine if it is possible to watch all available episodes of a TV show... without having the provider ask if you are still awake. Assume it takes 5 hours before the provider checks on you."
   ]
  },
  {
   "cell_type": "code",
   "execution_count": 14,
   "metadata": {},
   "outputs": [
    {
     "name": "stdout",
     "output_type": "stream",
     "text": [
      "\u001b[92m4 of 4 tests passed\u001b[0m\n"
     ]
    }
   ],
   "source": [
    "# Solution here\n",
    "\n",
    "@typecheck\n",
    "def is_bingeable(ts: TvShow) -> bool:\n",
    "    \"\"\"\n",
    "    return True if it is possible to watch all available episodes of ts without having\n",
    "    the provider ask if you are still awake. Returns False otherwise.\n",
    "    \n",
    "    Assume the provide checks on you at exactly 5 hours.    \n",
    "    \"\"\"\n",
    "    #return False  #stub\n",
    "    # Emiliy: template copied from TvShow\n",
    "    return ts.num_episodes * ts.episode_length < 5 * 60\n",
    "\n",
    "start_testing()\n",
    "\n",
    "expect(is_bingeable(TS_B99), 22 * 25 < 5 * 60)\n",
    "expect(is_bingeable(TS_B99), False)\n",
    "\n",
    "expect(is_bingeable(TvShow('The CS103 TA Show', 3, 80, 2020, True)), True)\n",
    "\n",
    "expect(is_bingeable(TvShow('Quinn Medicine Woman', 1, 5 * 60, 1990, False)), False)\n",
    "\n",
    "summary()"
   ]
  },
  {
   "cell_type": "markdown",
   "metadata": {},
   "source": [
    "### Bonus Out-of-Class Example, Artist: Compound or Enumeration?\n",
    "\n",
    "Our artist question asks you to represent \"an artist's family name,\n",
    "given name, birthplace, and art form (e.g., oil painting, sculpture,\n",
    "dance)\".\n",
    "\n",
    "What does one value of this type look like? Let's use [Georgia O'Keeffe](https://en.wikipedia.org/wiki/Georgia_O'Keeffe)\n",
    "(the painter, born in Wisconsin) as our example. We'll try solving the\n",
    "problem first with a compound and then with an enumeration and then\n",
    "try to represent O'Keeffe."
   ]
  },
  {
   "cell_type": "code",
   "execution_count": 6,
   "metadata": {},
   "outputs": [],
   "source": [
    "# Version 1: compound\n",
    "from typing import NamedTuple\n",
    "\n",
    "Artist = NamedTuple('Artist', [('family_name', str),\n",
    "                               ('given_name', str),\n",
    "                               ('birthplace', str),\n",
    "                               ('art_form', str)])\n",
    "# interp. an artist with their family name, given name, place of birth,\n",
    "#         and the art form they were best known for.\n",
    "A_MONET = Artist('Monet', 'Claude', 'Paris', 'pastels')\n",
    "A_NAOMI = Artist('Wolfman', 'Naomi', 'Vancouver', 'line drawings')\n",
    "\n",
    "@typecheck\n",
    "# template based on compound (4 fields)\n",
    "def fn_for_artist(a: Artist) -> ...:\n",
    "    return ...(a.family_name,\n",
    "               a.given_name,\n",
    "               a.birthplace,\n",
    "               a.art_form)\n",
    "\n",
    "# How do we represent Georgia O'Keeffe?\n",
    "georgia = ..."
   ]
  },
  {
   "cell_type": "code",
   "execution_count": 7,
   "metadata": {},
   "outputs": [],
   "source": [
    "# Version 2: enumeration\n",
    "from enum import Enum\n",
    "\n",
    "Artist = Enum('Artist', ['family_name', 'given_name', 'birthplace', 'art_form'])\n",
    "# interp. an aspect of an artist, one of their family name, their given name\n",
    "# their birthplace, or their art form.\n",
    "# Examples are redundant for enumerations.\n",
    "\n",
    "\n",
    "# template based on enumeration (4 cases)\n",
    "@typecheck\n",
    "def fn_for_artist(a: Artist) -> ...:\n",
    "    if a == Artist.family_name:\n",
    "        return ...\n",
    "    elif a == Artist.given_name:\n",
    "        return ...\n",
    "    elif a == Artist.birthplace:\n",
    "        return ...\n",
    "    elif a == Artist.art_form:\n",
    "        return ...\n",
    "\n",
    "# How do we represent Georgia O'Keeffe?\n",
    "georgia = ..."
   ]
  },
  {
   "cell_type": "code",
   "execution_count": 8,
   "metadata": {},
   "outputs": [],
   "source": [
    "# Version 3: simple atomic\n",
    "\n",
    "Artist = str\n",
    "# interp. an artist with their family name then given name followed by \"born in\"\n",
    "# and their birthplace and \"known for\" and their art form.\n",
    "A_MONET = 'Monet Claude born in Paris known for pastels'\n",
    "A_NAOMI = 'Wolfman Naomi born in Vancouver known for line drawings'\n",
    "\n",
    "@typecheck\n",
    "# template based on atomic non-distinct\n",
    "def fn_for_artist(a: Artist) -> ...:\n",
    "    return ...(a)\n",
    "\n",
    "# How do we represent Georgia O'Keeffe?\n",
    "georgia = ..."
   ]
  }
 ],
 "metadata": {
  "kernelspec": {
   "display_name": "Python 3",
   "language": "python",
   "name": "python3"
  },
  "language_info": {
   "codemirror_mode": {
    "name": "ipython",
    "version": 3
   },
   "file_extension": ".py",
   "mimetype": "text/x-python",
   "name": "python",
   "nbconvert_exporter": "python",
   "pygments_lexer": "ipython3",
   "version": "3.7.6"
  }
 },
 "nbformat": 4,
 "nbformat_minor": 4
}
