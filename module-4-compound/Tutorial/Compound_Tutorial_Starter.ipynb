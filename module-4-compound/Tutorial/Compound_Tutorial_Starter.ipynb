{
 "cells": [
  {
   "cell_type": "markdown",
   "metadata": {},
   "source": [
    "# Compound Tutorial Starter\n",
    "\n",
    "Read the sample information below and start to think about how to best represent one of the rows as data (i.e. how to best represent the information for a *single year*).\n",
    "\n",
    "We have some historial information about beekeepers in Canada\n",
    "\n",
    "|Year|Beekeepers|Colonies|Average yield per colony (pounds)|Production of honey, total (pounds x 1,000)|Value of honey, total (dollars x 1,000)|\n",
    "|---|---|---|---|---|---|\n",
    "|1924|\t22205|\t280010|\t60.1\t|16840\t|2085|\n",
    "|1925|\t22295|\t309400|\t64.6|\t19977\t|2414|\n",
    "|1926|\t22325|\t307490|\t63.5\t|19526\t|2407|\n",
    "|1927|\t22810|\t323750|\t71.8\t|23231\t|2753|\n",
    "\n",
    "\n",
    "Source: Statistics Canada. Table  001-0007 -  Production and value of honey, annual (number unless otherwise noted),  CANSIM (database). (accessed: May 8, 2018) "
   ]
  },
  {
   "cell_type": "markdown",
   "metadata": {},
   "source": [
    "### Problem 1: \n",
    "\n",
    "Design a data definition called BeeKeeperData to represent the information from one row (i.e., one year) shown above. \n",
    "\n",
    "Be sure to follow all steps of the HtDD recipe.\n",
    "\n",
    "(**Caution:** the word `yield` is a special word in Python, much like the words `return`, `def`, and `if`. So, you cannot name a variable or field `yield`. You can name it, for example `average_yield`, however!)"
   ]
  },
  {
   "cell_type": "code",
   "execution_count": null,
   "metadata": {},
   "outputs": [],
   "source": [
    "# your solution goes here"
   ]
  },
  {
   "cell_type": "markdown",
   "metadata": {},
   "source": [
    "### Problem 2:\n",
    "\n",
    "You want to find the average cost of honey (per pound) for a given BeeKeeperData. Design a function that takes a BeeKeeperData and returns the average cost per pound of honey rounded to two decimal points.\n",
    "\n",
    "Be sure to follow all steps of the HtDF recipe.  "
   ]
  },
  {
   "cell_type": "code",
   "execution_count": null,
   "metadata": {},
   "outputs": [],
   "source": [
    "# your solution goes here"
   ]
  },
  {
   "cell_type": "markdown",
   "metadata": {},
   "source": [
    "### Problem 3:\n",
    "    \n",
    "Design a function that takes two BeeKeeperData and returns True if the first had more beekeepers than the second. Note that when a function takes in two compound parameters, the template should include all fields from both parameters.\n",
    " \n",
    "Be sure to follow all steps of the HtDF recipe."
   ]
  },
  {
   "cell_type": "code",
   "execution_count": null,
   "metadata": {},
   "outputs": [],
   "source": [
    "# your solution goes here"
   ]
  },
  {
   "cell_type": "code",
   "execution_count": null,
   "metadata": {},
   "outputs": [],
   "source": [
    "# Remove the # sign from the beginning of the line with your instructor's name. For example, if you are\n",
    "# in Jessica's class, remove the # from  the line that says INSTRUCTOR_NAME = 'Jessica'. If you are in\n",
    "# in Meghan's class, remove the # from the line that says INSTRUCTOR_NAME = 'Meghan'.\n",
    "\n",
    "# RUN THIS CELL (press the \"Run\" button) AFTER YOU REMOVE THE # SIGN\n",
    "\n",
    "# INSTRUCTOR_NAME = 'Jessica'\n",
    "# INSTRUCTOR_NAME = 'Meghan'"
   ]
  },
  {
   "cell_type": "code",
   "execution_count": null,
   "metadata": {
    "deletable": false,
    "editable": false
   },
   "outputs": [],
   "source": [
    "# NOTE: You should not be able to edit this cell. Just run it to start the process of submiting your code.\n",
    "from cs103 import submit\n",
    "\n",
    "COURSE = 0\n",
    "ASSIGNMENT = 0\n",
    "\n",
    "if(INSTRUCTOR_NAME == 'Jessica'):\n",
    "    COURSE = 50466\n",
    "    ASSIGNMENT = 517939\n",
    "elif(INSTRUCTOR_NAME == 'Meghan'):\n",
    "    COURSE = 48359\n",
    "    ASSIGNMENT = 517996\n",
    "\n",
    "submit(COURSE, ASSIGNMENT)\n",
    "\n",
    "# If your submission fails, check to see that you have specified a value for the INSTRUCTOR_NAME variable in the\n",
    "# cell above AND have run that cell. If you  have done so and your submission is still failing, SUBMIT ANYWAY \n",
    "# by downloading your files and uploading them to Canvas. You can learn how on the page \n",
    "# \"How to submit your Jupyter notebook\" on our Canvas site."
   ]
  }
 ],
 "metadata": {
  "celltoolbar": "Edit Metadata",
  "kernelspec": {
   "display_name": "Python 3",
   "language": "python",
   "name": "python3"
  },
  "language_info": {
   "codemirror_mode": {
    "name": "ipython",
    "version": 3
   },
   "file_extension": ".py",
   "mimetype": "text/x-python",
   "name": "python",
   "nbconvert_exporter": "python",
   "pygments_lexer": "ipython3",
   "version": "3.7.7"
  }
 },
 "nbformat": 4,
 "nbformat_minor": 2
}
