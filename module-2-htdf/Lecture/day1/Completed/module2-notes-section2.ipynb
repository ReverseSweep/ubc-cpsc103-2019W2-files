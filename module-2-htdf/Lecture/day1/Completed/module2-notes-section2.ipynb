{
 "cells": [
  {
   "cell_type": "code",
   "execution_count": 2,
   "metadata": {},
   "outputs": [],
   "source": [
    "from cs103 import *"
   ]
  },
  {
   "cell_type": "markdown",
   "metadata": {},
   "source": [
    "# Module 2, Day 1 Notes\n",
    "\n",
    "Here is a summary of our How to Design Functions Recipe:\n",
    "\n",
    "1. Write:\n",
    "   1. the typecheck annotation,\n",
    "   2. signature,\n",
    "   3. purpose, and \n",
    "   4. stub (technically, the body of the stub).\n",
    "2. Write examples/tests\n",
    "3. Write or copy the template\n",
    "4. Code the function body\n",
    "5. Test and debug until correct"
   ]
  },
  {
   "cell_type": "markdown",
   "metadata": {},
   "source": [
    "## `is_tall` Quiz Problem\n",
    "\n",
    "Let's revisit the steps of: **Design a function that takes an Image and determines whether it is tall or not.**"
   ]
  },
  {
   "cell_type": "code",
   "execution_count": 1,
   "metadata": {},
   "outputs": [
    {
     "data": {
      "text/plain": [
       "'\\nhello, Karina.\\n\\nHow are you?\\n'"
      ]
     },
     "execution_count": 1,
     "metadata": {},
     "output_type": "execute_result"
    }
   ],
   "source": [
    "\"\"\"\n",
    "hello, Karina.\n",
    "\n",
    "How are you?\n",
    "\"\"\""
   ]
  },
  {
   "cell_type": "code",
   "execution_count": 22,
   "metadata": {},
   "outputs": [
    {
     "name": "stdout",
     "output_type": "stream",
     "text": [
      "\u001b[92m4 of 4 tests passed\u001b[0m\n"
     ]
    }
   ],
   "source": [
    "# Design is_tall here.\n",
    "# We already included the signature, TWO possible purposes, and a stub.\n",
    "# We still need: tests/examples, template comment, and body.\n",
    "\n",
    "@typecheck\n",
    "def is_tall(img: Image) -> bool:\n",
    "    \"\"\"\n",
    "    returns True if img is tall or False if not\n",
    "    \n",
    "    An image is tall if its width is less than its height.\n",
    "    \"\"\"\n",
    "    #return True  #stub\n",
    "    #return ...(img)   #template\n",
    "    return image_width(img) < image_height(img)\n",
    "    \n",
    "# Starting point for any set of tests/examples:\n",
    "start_testing()\n",
    "expect(is_tall(rectangle(20, 50, \"solid\", \"hotpink\")), True)\n",
    "expect(is_tall(triangle(20, 10, \"solid\", \"cardinal\")), False)\n",
    "expect(is_tall(square(80, \"outline\", \"cerulean\")), False)\n",
    "expect(is_tall(circle(80, \"outline\", \"turqoise\")), False)\n",
    "summary()"
   ]
  },
  {
   "cell_type": "markdown",
   "metadata": {},
   "source": [
    "## Tracing a call to `find_actual_exam_grade`\n",
    "\n",
    "We skipped over a couple of elements of our *previous* pre-class quiz's review. Let's trace through a call to the `find_actual_exam_grade` function to remedy that.\n",
    "\n",
    "Here's `find_actual_exam_grade`:"
   ]
  },
  {
   "cell_type": "code",
   "execution_count": null,
   "metadata": {},
   "outputs": [],
   "source": [
    "@typecheck\n",
    "def find_actual_exam_grade(indiv: float, group: float) -> float:\n",
    "    \"\"\"\n",
    "    Given a student's individual (indiv) and group exam grades, return their actual grade.\n",
    "    \n",
    "    The actual grade is the maximum of (1) the individual grade and (2) 90% of the individual\n",
    "    grade plus 10% of the group grade.\n",
    "    \"\"\"\n",
    "    #return 100.0  #stub\n",
    "    #return ...(indiv, group)  #template\n",
    "    \n",
    "    if indiv > group:\n",
    "        return indiv\n",
    "    else:\n",
    "        return 90/100 * indiv + 10/100 * group\n",
    "\n",
    "start_testing()\n",
    "expect(find_actual_exam_grade(90.3, 90.3), 90.3)\n",
    "expect(find_actual_exam_grade(80, 100), 82)\n",
    "expect(find_actual_exam_grade(75, 70), 75)\n",
    "summary()"
   ]
  },
  {
   "cell_type": "markdown",
   "metadata": {},
   "source": [
    "We'll trace through this code that calls the function:"
   ]
  },
  {
   "cell_type": "code",
   "execution_count": null,
   "metadata": {},
   "outputs": [],
   "source": [
    "# Midterm 1 result\n",
    "indiv = 80\n",
    "group = 90\n",
    "\n",
    "# Midterm 2 result\n",
    "indiv2 = 72\n",
    "group2 = 93\n",
    "\n",
    "# Midterms' average\n",
    "(find_actual_exam_grade(indiv, group) + find_actual_exam_grade(indiv2, group2)) / 2"
   ]
  },
  {
   "cell_type": "markdown",
   "metadata": {},
   "source": [
    "## The Worksheet \"multiply a number by 4\" Problem\n",
    "\n",
    "We'll work through these to get more practice with the recipe and to explain what we mean by the wording of these problems on the worksheet!\n",
    "\n",
    "The overarching problem is: **Design a function that multiplies a number by 4.**"
   ]
  },
  {
   "cell_type": "markdown",
   "metadata": {},
   "source": [
    "### \"circle the best signature and why you chose it\"\n",
    "1. `float -> 4*float` **4*float is about what the function does, not its type; so this is not legal**\n",
    "2. `number -> number` **number is not a type; wrong!**\n",
    "3. `float, float -> float`  **we already *know* the 4 part; we only need one more number**\n",
    "4. `float -> float` **correct!!**\n",
    "\n",
    "\"Why is that the best signature?\""
   ]
  },
  {
   "cell_type": "markdown",
   "metadata": {},
   "source": [
    "### \"what is the second-best response or explain why there is none? Is that second-best response good enough to be an acceptable design?\""
   ]
  },
  {
   "cell_type": "markdown",
   "metadata": {},
   "source": [
    "### \"write a clear and succinct purpose\"\n",
    "\n"
   ]
  },
  {
   "cell_type": "code",
   "execution_count": null,
   "metadata": {},
   "outputs": [],
   "source": [
    "@typecheck\n",
    "def times4(x: float) -> float:\n",
    "    \"\"\"\n",
    "    return x multiplied by 4\n",
    "    \"\"\"\n",
    "    return x  #stub"
   ]
  },
  {
   "cell_type": "markdown",
   "metadata": {},
   "source": [
    "### \"match [the function] with an appropriate stub body\"\n",
    "\n",
    "We're working on `def times_four(x):`\n",
    "\n",
    "Here are the options:\n",
    "+ `return False`  **wrong type (a bool)**\n",
    "+ `return radius`\n",
    "+ `return x` **correct because x is a float *in this function***\n",
    "+ `return colour`\n",
    "+ `return square(1, 'solid', 'white')`  **wrong type (an Image)**"
   ]
  },
  {
   "cell_type": "code",
   "execution_count": 5,
   "metadata": {},
   "outputs": [
    {
     "data": {
      "text/plain": [
       "<cs103.image.image.Circle object at 0x7fcdbc7695d0>"
      ]
     },
     "execution_count": 5,
     "metadata": {},
     "output_type": "execute_result"
    },
    {
     "data": {
      "image/png": "[encoded data removed]",
      "text/plain": [
       "<Figure size 75x75 with 1 Axes>"
      ]
     },
     "metadata": {
      "needs_background": "light"
     },
     "output_type": "display_data"
    }
   ],
   "source": [
    "@typecheck\n",
    "def make_circle(color: str, radius: int) -> Image:\n",
    "    \"\"\"\n",
    "    Returns a solid circle of given color and radius\n",
    "    \"\"\"\n",
    "    return circle(50, \"solid\", \"turquoise\") #stub\n",
    "\n",
    "make_circle(\"red\", 50)"
   ]
  },
  {
   "cell_type": "markdown",
   "metadata": {},
   "source": [
    "## CPSC 103 d-tective 😜\n",
    "\n",
    "**Problem:** Design a function that determines if a string starts with\n",
    "the letter *d*."
   ]
  },
  {
   "cell_type": "code",
   "execution_count": 12,
   "metadata": {},
   "outputs": [
    {
     "name": "stdout",
     "output_type": "stream",
     "text": [
      "\u001b[92m4 of 4 tests passed\u001b[0m\n"
     ]
    }
   ],
   "source": [
    "# Let's put our answer here!\n",
    "\n",
    "@typecheck\n",
    "def start_with_d(s: str) -> bool:\n",
    "    \"\"\"\n",
    "    Returns True if a string starts with the letter d\n",
    "    d must be lowercase\n",
    "    \"\"\"\n",
    "    # return True #stub\n",
    "    # return ...(s) #template\n",
    "    if s == \"\":\n",
    "        return False\n",
    "    else:\n",
    "        return s[0] == 'd'\n",
    "\n",
    "start_testing()\n",
    "expect(start_with_d(\"dog\"), True)\n",
    "expect(start_with_d(\"kitten\"), False)\n",
    "expect(start_with_d(\"Dog\"), False)\n",
    "expect(start_with_d(\"\"), False)\n",
    "summary()"
   ]
  }
 ],
 "metadata": {
  "kernelspec": {
   "display_name": "Python 3",
   "language": "python",
   "name": "python3"
  },
  "language_info": {
   "codemirror_mode": {
    "name": "ipython",
    "version": 3
   },
   "file_extension": ".py",
   "mimetype": "text/x-python",
   "name": "python",
   "nbconvert_exporter": "python",
   "pygments_lexer": "ipython3",
   "version": "3.7.6"
  }
 },
 "nbformat": 4,
 "nbformat_minor": 2
}
