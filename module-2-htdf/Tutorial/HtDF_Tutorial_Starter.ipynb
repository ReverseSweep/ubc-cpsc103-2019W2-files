{
 "cells": [
  {
   "cell_type": "code",
   "execution_count": 1,
   "metadata": {},
   "outputs": [],
   "source": [
    "from cs103 import *"
   ]
  },
  {
   "cell_type": "markdown",
   "metadata": {
    "collapsed": true
   },
   "source": [
    "# HtDF Tutorial\n",
    "\n",
    "## Pre-Tutorial Questions:\n",
    "\n",
    "For each problem, write the signature, purpose, and stub. This work will not be graded but is highly recommended as preparation for your tutorial."
   ]
  },
  {
   "cell_type": "markdown",
   "metadata": {
    "collapsed": true
   },
   "source": [
    "### Problem 1:\n",
    "    \n",
    "Design a function that takes a string and returns the string with '... Samantha?' appended to the end.\n",
    "\n",
    "So, if you call the function with \"Hello\", the function should return \"Hello... Samantha?\" But, if you call it with \"I don't even know a\", it should return \"I don't even know a... Samantha?\"\n",
    "\n",
    "When designing your function, be sure to follow all steps of the HtDF recipe."
   ]
  },
  {
   "cell_type": "code",
   "execution_count": 2,
   "metadata": {},
   "outputs": [],
   "source": [
    "#  your solution goes here"
   ]
  },
  {
   "cell_type": "markdown",
   "metadata": {
    "collapsed": true
   },
   "source": [
    "### Problem 2:\n",
    "    \n",
    "A simple way to draw basic images is by using pixel art. Each pixel is a small square of the same size, and by arranging pixels you can make various images.\n",
    "\n",
    "We've included an example of pixel art below. Each of the \"pixels\" in our example is larger than a single pixel on the screen. If you run this code, you can see how images can be built from small squares where each square is a single colour.\n",
    "    \n",
    "Imagine you are working on creating pixel art images and you need to be able to create different designs with pixel art. Design a function that takes a pixel size and a colour and returns a pixel of the given colour and size.  \n",
    "    \n",
    "When designing your function, be sure to follow all steps of the HtDF recipe."
   ]
  },
  {
   "cell_type": "code",
   "execution_count": 3,
   "metadata": {},
   "outputs": [
    {
     "data": {
      "text/plain": [
       "<cs103.image.image.Above object at 0x7f99490ae898>"
      ]
     },
     "execution_count": 3,
     "metadata": {},
     "output_type": "execute_result"
    },
    {
     "data": {
      "image/png": "[encoded data removed]",
      "text/plain": [
       "<Figure size 150x150 with 1 Axes>"
      ]
     },
     "metadata": {
      "needs_background": "light"
     },
     "output_type": "display_data"
    }
   ],
   "source": [
    "# Example of pixel art. (Note, this code is not in a function but your solution needs to be in\n",
    "# a function. This is just an example of how you can use the individual pixels (i.e. small \n",
    "# squares) to build a bigger image.)\n",
    "\n",
    "from cs103 import *\n",
    "\n",
    "g_pixel = square(25, \"solid\", \"grey\")\n",
    "b_pixel = square(25, \"solid\", \"black\")\n",
    "\n",
    "even_row = beside(g_pixel, b_pixel, g_pixel, b_pixel, g_pixel, b_pixel, g_pixel, b_pixel)\n",
    "odd_row = beside(b_pixel, g_pixel, b_pixel, g_pixel, b_pixel, g_pixel, b_pixel, g_pixel)\n",
    "checkerboard = above(even_row, odd_row, even_row, odd_row, even_row, odd_row, even_row, odd_row)\n",
    "\n",
    "checkerboard\n"
   ]
  },
  {
   "cell_type": "code",
   "execution_count": 4,
   "metadata": {},
   "outputs": [],
   "source": [
    "# your solution goes here"
   ]
  },
  {
   "cell_type": "markdown",
   "metadata": {},
   "source": [
    "### Problem 3:\n",
    "\n",
    "Design a function that creates an image of your choosing using the function that you designed in your solution to Problem 2. You may create any image that you like but your function must take at least one parameter.\n",
    "\n",
    "Suggestion: start small, with an image that contains just a few pixels. Once you get that working, expand your image to something bigger if you like.\n",
    "    \n",
    "When designing your function, be sure to follow all steps of the HtDF recipe **including designing your tests first**. (You can use the tests as the way to figure out what your image will look like. When you run them, you'll see the image! Why two tests? Because if you change the value passed in to your parameter, you should get two different results.)\n",
    "\n",
    "Note: It's tempting to have the parameter determine how many of some pixel to have, but we haven't learned enough to do that yet. So maybe have one or more parameters that control something about the size or colour of all or part of the image instead!"
   ]
  },
  {
   "cell_type": "code",
   "execution_count": 5,
   "metadata": {},
   "outputs": [],
   "source": [
    "# your solution goes here"
   ]
  },
  {
   "cell_type": "code",
   "execution_count": null,
   "metadata": {
    "deletable": false,
    "editable": false
   },
   "outputs": [],
   "source": [
    "# NOTE: You should not be able to edit this cell. Just run it to start the process of submiting your code.\n",
    "from cs103 import submit\n",
    "\n",
    "COURSE = 35980\n",
    "ASSIGNMENT = 420440\n",
    "submit(COURSE, ASSIGNMENT)\n",
    "\n",
    "# If your submission fails, SUBMIT ANYWAY by downloading your files and uploading them to Canvas.\n",
    "# You can learn how on the page \"How to submit your Jupyter notebook\" on our Canvas site."
   ]
  }
 ],
 "metadata": {
  "kernelspec": {
   "display_name": "Python 3",
   "language": "python",
   "name": "python3"
  },
  "language_info": {
   "codemirror_mode": {
    "name": "ipython",
    "version": 3
   },
   "file_extension": ".py",
   "mimetype": "text/x-python",
   "name": "python",
   "nbconvert_exporter": "python",
   "pygments_lexer": "ipython3",
   "version": "3.7.6"
  }
 },
 "nbformat": 4,
 "nbformat_minor": 2
}
